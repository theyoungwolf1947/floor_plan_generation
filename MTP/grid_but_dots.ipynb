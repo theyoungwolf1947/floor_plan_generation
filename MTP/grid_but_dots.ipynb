{
 "cells": [
  {
   "cell_type": "code",
   "execution_count": 9,
   "id": "292a5382-2842-415b-a70e-53369d7d118c",
   "metadata": {},
   "outputs": [],
   "source": [
    "import numpy as np\n",
    "import matplotlib.pyplot as plt\n",
    "from shapely.geometry import Polygon, Point"
   ]
  },
  {
   "cell_type": "code",
   "execution_count": 10,
   "id": "9107d126-9dac-44fe-bc08-09298c22985a",
   "metadata": {},
   "outputs": [],
   "source": [
    "def generate_grid_within_polygon(polygon, grid_resolution):\n",
    "    x_min, y_min, x_max, y_max = polygon.bounds\n",
    "    x_coords = np.arange(x_min, x_max + grid_resolution, grid_resolution)\n",
    "    y_coords = np.arange(y_min, y_max + grid_resolution, grid_resolution)\n",
    "    grid_points = [(x, y) for x in x_coords for y in y_coords if polygon.contains(Point(x, y))]\n",
    "    return grid_points"
   ]
  },
  {
   "cell_type": "code",
   "execution_count": 11,
   "id": "5627eeac-b884-4653-b074-770319e0215b",
   "metadata": {},
   "outputs": [],
   "source": [
    "# Create a polygon d\n",
    "polygon = Polygon([(0, 0), (0, 10), (10, 10), (10, 0)])\n",
    "# polygon = Polygon([(0, 0), (10, 4), (10, 10), (0, 20)])"
   ]
  },
  {
   "cell_type": "code",
   "execution_count": 12,
   "id": "9848b660-440c-4693-afb4-918fa184de67",
   "metadata": {},
   "outputs": [],
   "source": [
    "# Generate a grid within the polygon with a given resolution\n",
    "grid_resolution = 1.0\n",
    "grid_points = generate_grid_within_polygon(polygon, grid_resolution)"
   ]
  },
  {
   "cell_type": "code",
   "execution_count": 13,
   "id": "e4107b2e-65b1-49d8-8184-768976f661fd",
   "metadata": {},
   "outputs": [],
   "source": [
    "# Extract x and y coordinates for plotting\n",
    "x_coords, y_coords = zip(*grid_points)"
   ]
  },
  {
   "cell_type": "code",
   "execution_count": 14,
   "id": "1d55ac95-7cbc-49be-9cfc-feb711ea5e67",
   "metadata": {},
   "outputs": [
    {
     "data": {
      "image/png": "[encoded data removed]",
      "text/plain": [
       "<Figure size 640x480 with 1 Axes>"
      ]
     },
     "metadata": {},
     "output_type": "display_data"
    }
   ],
   "source": [
    "fig, ax = plt.subplots()\n",
    "ax.plot(*polygon.exterior.xy, color='blue', label='Polygon')\n",
    "ax.scatter(x_coords, y_coords, color='red', marker='.', label='Grid Points')\n",
    "ax.set_aspect('equal', 'box')\n",
    "ax.legend()\n",
    "plt.show()"
   ]
  },
  {
   "cell_type": "code",
   "execution_count": null,
   "id": "b91fab30-b546-4672-9500-2bccf324415f",
   "metadata": {},
   "outputs": [],
   "source": []
  }
 ],
 "metadata": {
  "kernelspec": {
   "display_name": "Python 3 (ipykernel)",
   "language": "python",
   "name": "python3"
  },
  "language_info": {
   "codemirror_mode": {
    "name": "ipython",
    "version": 3
   },
   "file_extension": ".py",
   "mimetype": "text/x-python",
   "name": "python",
   "nbconvert_exporter": "python",
   "pygments_lexer": "ipython3",
   "version": "3.11.4"
  }
 },
 "nbformat": 4,
 "nbformat_minor": 5
}
