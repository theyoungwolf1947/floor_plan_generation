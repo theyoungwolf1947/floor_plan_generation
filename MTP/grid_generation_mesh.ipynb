{
 "cells": [
  {
   "cell_type": "code",
   "execution_count": 44,
   "id": "bb9be527-b46d-405b-9757-3d17d078265e",
   "metadata": {},
   "outputs": [
    {
     "name": "stdout",
     "output_type": "stream",
     "text": [
      "Requirement already satisfied: numpy in c:\\users\\shrij\\appdata\\local\\programs\\python\\python311\\lib\\site-packages (1.23.5)\n",
      "Requirement already satisfied: matplotlib in c:\\users\\shrij\\appdata\\local\\programs\\python\\python311\\lib\\site-packages (3.7.2)\n",
      "Requirement already satisfied: contourpy>=1.0.1 in c:\\users\\shrij\\appdata\\local\\programs\\python\\python311\\lib\\site-packages (from matplotlib) (1.1.0)\n",
      "Requirement already satisfied: cycler>=0.10 in c:\\users\\shrij\\appdata\\local\\programs\\python\\python311\\lib\\site-packages (from matplotlib) (0.11.0)\n",
      "Requirement already satisfied: fonttools>=4.22.0 in c:\\users\\shrij\\appdata\\local\\programs\\python\\python311\\lib\\site-packages (from matplotlib) (4.42.0)\n",
      "Requirement already satisfied: kiwisolver>=1.0.1 in c:\\users\\shrij\\appdata\\local\\programs\\python\\python311\\lib\\site-packages (from matplotlib) (1.4.4)\n",
      "Requirement already satisfied: numpy>=1.20 in c:\\users\\shrij\\appdata\\local\\programs\\python\\python311\\lib\\site-packages (from matplotlib) (1.23.5)\n",
      "Requirement already satisfied: packaging>=20.0 in c:\\users\\shrij\\appdata\\local\\programs\\python\\python311\\lib\\site-packages (from matplotlib) (23.1)\n",
      "Requirement already satisfied: pillow>=6.2.0 in c:\\users\\shrij\\appdata\\local\\programs\\python\\python311\\lib\\site-packages (from matplotlib) (9.5.0)\n",
      "Requirement already satisfied: pyparsing<3.1,>=2.3.1 in c:\\users\\shrij\\appdata\\local\\programs\\python\\python311\\lib\\site-packages (from matplotlib) (3.0.9)\n",
      "Requirement already satisfied: python-dateutil>=2.7 in c:\\users\\shrij\\appdata\\local\\programs\\python\\python311\\lib\\site-packages (from matplotlib) (2.8.2)\n",
      "Requirement already satisfied: six>=1.5 in c:\\users\\shrij\\appdata\\local\\programs\\python\\python311\\lib\\site-packages (from python-dateutil>=2.7->matplotlib) (1.16.0)\n",
      "Requirement already satisfied: shapely in c:\\users\\shrij\\appdata\\local\\programs\\python\\python311\\lib\\site-packages (2.0.1)\n",
      "Requirement already satisfied: numpy>=1.14 in c:\\users\\shrij\\appdata\\local\\programs\\python\\python311\\lib\\site-packages (from shapely) (1.23.5)\n"
     ]
    }
   ],
   "source": [
    "!pip install numpy\n",
    "!pip install matplotlib\n",
    "!pip install shapely"
   ]
  },
  {
   "cell_type": "code",
   "execution_count": 45,
   "id": "6618d965-1928-4bb9-bab2-0b1fddffb1eb",
   "metadata": {},
   "outputs": [],
   "source": [
    "import numpy as np\n",
    "import matplotlib.pyplot as plt\n",
    "from shapely.geometry import Polygon, Point"
   ]
  },
  {
   "cell_type": "code",
   "execution_count": 46,
   "id": "24fc3bc6-e6cb-4a45-a539-9bca8380a081",
   "metadata": {},
   "outputs": [],
   "source": [
    "def generate_mesh_within_polygon(polygon, cell_size):\n",
    "    '''\n",
    "\n",
    "    this function generates a mesh inside given polygon\n",
    "\n",
    "    '''\n",
    "\n",
    "\n",
    "    x_min, y_min, x_max, y_max = polygon.bounds\n",
    "    x_coords = np.arange(x_min, x_max, cell_size)\n",
    "    y_coords = np.arange(y_min, y_max, cell_size)\n",
    "\n",
    "    mesh = []\n",
    "    for x in x_coords:\n",
    "        for y in y_coords:\n",
    "            cell_center = Point(x + cell_size / 2, y + cell_size / 2)\n",
    "            if polygon.contains(cell_center):\n",
    "                mesh.append(Polygon([\n",
    "                    (x, y),\n",
    "                    (x + cell_size, y),\n",
    "                    (x + cell_size, y + cell_size),\n",
    "                    (x, y + cell_size)\n",
    "                ]))\n",
    "\n",
    "    return mesh"
   ]
  },
  {
   "cell_type": "code",
   "execution_count": 47,
   "id": "28940f7a-731d-408c-97c4-e5240792e46e",
   "metadata": {},
   "outputs": [],
   "source": [
    "# Create a polygon \n",
    "# polygon = Polygon([(0, 0), (0, 10), (10, 10), (10, 0)])\n",
    "polygon = Polygon([(0, 0), (10, 4), (10, 10), (0, 20)])\n"
   ]
  },
  {
   "cell_type": "code",
   "execution_count": 48,
   "id": "351e4610-bc2b-4a49-8d3b-c7f2c061ede7",
   "metadata": {},
   "outputs": [],
   "source": [
    "# Define cell size for the mesh\n",
    "cell_size = 1"
   ]
  },
  {
   "cell_type": "code",
   "execution_count": 49,
   "id": "c0fe5dd6-693d-4689-9ffd-b56eb6c2796c",
   "metadata": {},
   "outputs": [],
   "source": [
    "# Generate a mesh of cells within the polygon\n",
    "mesh_cells = generate_mesh_within_polygon(polygon, cell_size)"
   ]
  },
  {
   "cell_type": "code",
   "execution_count": 50,
   "id": "dd066b71-3beb-46fc-8544-e64023aed298",
   "metadata": {},
   "outputs": [
    {
     "data": {
      "image/png": "[encoded data removed]",
      "text/plain": [
       "<Figure size 640x480 with 1 Axes>"
      ]
     },
     "metadata": {},
     "output_type": "display_data"
    }
   ],
   "source": [
    "# Plot the polygon and mesh cells\n",
    "fig, ax = plt.subplots()\n",
    "for cell in mesh_cells:\n",
    "    x, y = cell.exterior.xy\n",
    "    ax.plot(x, y, color='green')\n",
    "ax.plot(*polygon.exterior.xy, color='blue', label='Polygon')\n",
    "ax.set_aspect('equal', 'box')\n",
    "ax.legend()\n",
    "plt.show()"
   ]
  },
  {
   "cell_type": "code",
   "execution_count": null,
   "id": "071a86e1-225c-4166-a526-eecd8a94b76b",
   "metadata": {},
   "outputs": [],
   "source": []
  }
 ],
 "metadata": {
  "kernelspec": {
   "display_name": "Python 3 (ipykernel)",
   "language": "python",
   "name": "python3"
  },
  "language_info": {
   "codemirror_mode": {
    "name": "ipython",
    "version": 3
   },
   "file_extension": ".py",
   "mimetype": "text/x-python",
   "name": "python",
   "nbconvert_exporter": "python",
   "pygments_lexer": "ipython3",
   "version": "3.11.4"
  }
 },
 "nbformat": 4,
 "nbformat_minor": 5
}
